{
 "cells": [
  {
   "cell_type": "code",
   "execution_count": 46,
   "metadata": {},
   "outputs": [],
   "source": [
    "import PyPDF2\n",
    "import os\n",
    "import glob\n",
    "import re\n",
    "import ast\n",
    "import itertools\n",
    "\n",
    "assessable = 'nutrition'\n",
    "assessable_url = assessable.replace('_', ' ')\n",
    "\n",
    "directory = r'C:\\Users\\Sergio\\Desktop\\tws-workspace\\closeAI\\Examples\\content_generation\\content\\{assessable_url}'.format(assessable_url=assessable_url)\n",
    "# directory = r'C:\\Users\\Sergio\\Desktop\\TWS\\tws-workspace\\closeAI\\Examples\\content_generation\\content\\{assessable_url}'.format(assessable_url=assessable_url)\n",
    "\n",
    "all_content = []\n",
    "\n",
    "# Get all PDF files in the directory\n",
    "pdf_files = glob.glob(os.path.join(directory, '*.pdf'))\n",
    "\n"
   ]
  },
  {
   "cell_type": "code",
   "execution_count": 47,
   "metadata": {},
   "outputs": [],
   "source": [
    "import openai\n",
    "\n",
    "openai.api_key = \"\"\n",
    "\n",
    "def get_completion_and_token_count(messages, \n",
    "                                 model=\"gpt-3.5-turbo-16k\", \n",
    "                                 temperature=0.0, max_tokens=5000):\n",
    "    response = openai.ChatCompletion.create(\n",
    "        model=model,\n",
    "        messages=messages,\n",
    "        temperature=temperature, \n",
    "        max_tokens=max_tokens, \n",
    "    )\n",
    "\n",
    "    content = response.choices[0].message[\"content\"]\n",
    "\n",
    "\n",
    "    token_dict = {\n",
    "        'prompt_tokens': response['usage']['prompt_tokens'],\n",
    "        'completion_tokens': response['usage']['completion_tokens'],\n",
    "        'total_tokens': response['usage']['total_tokens'],\n",
    "    }\n",
    "\n",
    "    return content, token_dict"
   ]
  },
  {
   "cell_type": "code",
   "execution_count": 48,
   "metadata": {},
   "outputs": [],
   "source": [
    "def find_substring(results, substrings):\n",
    "    # For each substring\n",
    "    for sub in substrings:\n",
    "        # Store indices where the substring is found\n",
    "        found_indices = []\n",
    "\n",
    "        # For each result\n",
    "        for index, sub_results in results:\n",
    "            # For each substring result\n",
    "            for sub_res, found in sub_results:\n",
    "                # If the current substring matches and it was found\n",
    "                if sub_res == sub and found:\n",
    "                    # Store the index\n",
    "                    found_indices.append(index)\n",
    "        \n",
    "        # If the substring was found at least once\n",
    "        if found_indices:\n",
    "            # Return the substring and the indices where it was found\n",
    "            return sub, found_indices\n",
    "\n",
    "    # If none of the substrings were found\n",
    "    return None, []"
   ]
  },
  {
   "cell_type": "code",
   "execution_count": 49,
   "metadata": {},
   "outputs": [],
   "source": [
    "def get_main_topics(pdf_file):\n",
    "    text_content = []\n",
    "    print(os.path.basename(pdf_file))\n",
    "\n",
    "    # Open the pdf file\n",
    "    with open(pdf_file, 'rb') as file:\n",
    "        # Initialize a pdf file reader\n",
    "        reader = PyPDF2.PdfReader(file)\n",
    "\n",
    "        # Loop through each page\n",
    "        for i in range(len(reader.pages)):\n",
    "            # Get the text content of the page\n",
    "            page = reader.pages[i]\n",
    "            text = page.extract_text()\n",
    "\n",
    "            # Add the text to the list\n",
    "            text_content.append(text)\n",
    "\n",
    "    substrings = ['contents', 'indice', 'index', 'índice', 'table of contents']\n",
    "\n",
    "    text_content_first = text_content[:8]\n",
    "\n",
    "    results = list(filter(lambda x: any(sub_res[1] for sub_res in x[1]), enumerate(map(lambda s: [(sub, s.lower().find(sub) != -1) for sub in substrings], text_content_first))))\n",
    "\n",
    "    # Specify the substrings in the order you want to search for them\n",
    "    substrings = [\"table of contents\", \"indice\", \"index\", \"índice\", \"contents\"]\n",
    "\n",
    "    # Call the function with your results and substrings\n",
    "    found_substring, found_indices = find_substring(results, substrings)\n",
    "\n",
    "    print(found_substring)\n",
    "    print(found_indices)\n",
    "\n",
    "    index_location = found_indices[:1]\n",
    "    index_location = int(index_location[0])\n",
    "\n",
    "    print(text_content[index_location])\n",
    "\n",
    "\n",
    "    pattern = re.compile(r\"^\\d+\\.\\s+.+\", re.MULTILINE)\n",
    "\n",
    "    all_matching_substrings = []\n",
    "\n",
    "    matching_dict = {}\n",
    "\n",
    "    for i in range(index_location, index_location + 3):\n",
    "        matching_substrings = pattern.findall(text_content[i])\n",
    "\n",
    "        for substring in matching_substrings:\n",
    "            # Use a regular expression to separate the topic name and page number\n",
    "            match = re.match(r'^(\\d+)\\.\\s+(.+?)(?:\\s+(\\d+))?\\s*$', substring)\n",
    "            if match:\n",
    "                # Store the topic name and page number in the dictionary\n",
    "                matching_dict[match.group(2)] = match.group(3) if match.group(3) else None\n",
    "\n",
    "    \n",
    "    if not all_matching_substrings:\n",
    "        print(\"OTHEEER\")\n",
    "        # Define a new pattern to match the other format\n",
    "        pattern = re.compile(r\"^(\\d+(?:\\.\\d+)*)\\s+(.+)\\s+(\\d+)$\", re.MULTILINE)\n",
    "\n",
    "        for i in range(index_location, index_location + 3):\n",
    "            matching_substrings = pattern.findall(text_content[i])\n",
    "\n",
    "            # Initialize a dictionary to store the topic name and page number\n",
    "\n",
    "            for substring in matching_substrings:\n",
    "                # So we can directly access its elements\n",
    "                index, topic_name, page_number = substring\n",
    "                \n",
    "                # Store the topic name and page number in the dictionary\n",
    "                matching_dict[f\"{index} {topic_name}\"] = page_number\n",
    "\n",
    "            \n",
    "    if matching_dict:\n",
    "            all_matching_substrings.append(matching_dict)\n",
    "\n",
    "    print(len(str(all_matching_substrings)))\n",
    "\n",
    "    # Check the length of all_matching_substrings\n",
    "    if len(str(all_matching_substrings)) > 1500:\n",
    "        # Split the dictionary into two\n",
    "        matching_dict_iter = iter(matching_dict.items())\n",
    "        matching_dict_1 = dict(itertools.islice(matching_dict_iter, len(matching_dict)//2))\n",
    "        matching_dict_2 = dict(matching_dict_iter)\n",
    "\n",
    "        # Replace the original matching_dict in all_matching_substrings with the two new dictionaries\n",
    "        all_matching_substrings = [matching_dict_1, matching_dict_2]\n",
    "\n",
    "    system_message_clean = f\"\"\" \n",
    "    You are going to receive an array of dictionaries. The keys are not cleaned and not clear. \\n\n",
    "    The array will be between triple backstrick (```). \\n\n",
    "    Output the same array of dictionaries with keys strings cleaned and its number in case it has, and its respective dictionary value. \\n\n",
    "    Just output the object asked for. ```{all_matching_substrings}``` \"\"\"\n",
    "\n",
    "    if(len(all_matching_substrings) > 1):\n",
    "        for i in all_matching_substrings:\n",
    "            print(i)\n",
    "            system_message_clean = f\"\"\" \n",
    "                    You are going to receive an array of dictionaries. The keys are not cleaned and not clear. \\n\n",
    "                    The array will be between triple backstrick (```). \\n\n",
    "                    Output the same array of dictionaries with keys strings cleaned and its number in case it has, and its respective dictionary value. \\n\n",
    "                    Just output the object asked for. ```{i}``` \"\"\"\n",
    "            messages =  [  \n",
    "            {'role':'system', \n",
    "            'content': system_message_clean},  \n",
    "            ] \n",
    "            response, token_dict = get_completion_and_token_count(messages)\n",
    "            print(response)\n",
    "            print(token_dict)\n",
    "\n",
    "            # Convert the string representation of the response into an actual list of dictionaries\n",
    "            response = ast.literal_eval(response)\n",
    "\n",
    "            all_content.append({\"file_name\": os.path.basename(pdf_file), \"matching_substrings\": response})\n",
    "    else:\n",
    "        messages =  [  \n",
    "        {'role':'system', \n",
    "        'content': system_message_clean},  \n",
    "        ] \n",
    "        response, token_dict = get_completion_and_token_count(messages)\n",
    "        print(response)\n",
    "        print(token_dict)\n",
    "\n",
    "        # Convert the string representation of the response into an actual list of dictionaries\n",
    "        response = ast.literal_eval(response)\n",
    "\n",
    "        all_content.append({\"file_name\": os.path.basename(pdf_file), \"matching_substrings\": response})\n"
   ]
  },
  {
   "cell_type": "code",
   "execution_count": 50,
   "metadata": {},
   "outputs": [
    {
     "name": "stdout",
     "output_type": "stream",
     "text": [
      "Introduction to Human Nutrition 2nd Edition ( PDFDrive ).pdf\n",
      "index\n",
      "[6, 7]\n",
      "This edition ﬁ  rst published 2009\n",
      "First edition published 2002\n",
      "© 2009, 2002 by The Nutrition Society\n",
      "Blackwell Publishing was acquired by John Wiley & Sons in February 2007. Blackwell’s publishing programme has been \n",
      "merged with Wiley’s global Scientiﬁ  c, T echnical, and Medical business to form Wiley-Blackwell.\n",
      "Registered ofﬁ  ce\n",
      "John Wiley & Sons Ltd, The Atrium, Southern Gate, Chichester, West Sussex, PO19 8SQ, United KingdomEditorial ofﬁ  ces\n",
      "9600 Garsington Road, Oxford, OX4 2DQ, United Kingdom\n",
      "2121 State Avenue, Ames, Iowa 50014-8300, USA\n",
      "For details of our global editorial ofﬁ  ces, for customer services and for information about how to apply for permission to \n",
      "reuse the copyright material in this book please see our website at www.wiley.com/wiley-blackwell.The right of the author to be identiﬁ  ed as the author of this work has been asserted in accordance with the Copyright, \n",
      "Designs and Patents Act 1988.All rights reserved. No part of this publication may be reproduced, stored in a retrieval system, or transmitted, in any \n",
      "form or by any means, electronic, mechanical, photocopying, recording or otherwise, except as permitted by the UK Copyright, Designs and Patents Act 1988, without the prior permission of the publisher.\n",
      "Wiley also publishes its books in a variety of electronic formats. Some content that appears in print may not be available \n",
      "in electronic books.\n",
      "Designations used by companies to distinguish their products are often claimed as trademarks. All brand names and \n",
      "product names used in this book are trade names, service marks, tra demarks or registered trademarks of their respective \n",
      "owners. The publisher is not associated with any product or vendor mentioned in this book. This publication is designed \n",
      "to provide accurate and authoritative information in regard to the subject matter covered. It is sold on the understanding that the publisher is not engaged in rendering professional servic es. If professional advice or other expert assistance is \n",
      "required, the services of a competent professional should be sought.\n",
      "Library of Congress Cataloging-in-Publication DataIntroduction to human nutrition / edited on behalf of the Nutrit ion Society by Michael J. Gibney  .  .  .  [et al.]. – 2nd ed.\n",
      "  p. ; cm. – (The human nutrition textbook series)\n",
      " Includes bibliographical references and index. ISBN 978-1-4051-6807-6 (pbk. : alk. paper) 1. Nutrition. I.  Gibney, Michael J. II. Nutrition Society \n",
      "(Great Britain) III. Series. [DNLM: 1. Nutrition Physiology 2. Food. QU 145 I623 2009]\n",
      " QP141.I665 2009\n",
      " 612.3–dc22 2008035123\n",
      "A catalogue record for this book is available from the British Library.Set in 10 on 12 pt Minion by SNP Best-set Typesetter Ltd., Hong Kong\n",
      "Printed in Singapore by Fabulous Printers Pte Ltd\n",
      "1 2009\n",
      "OTHEEER\n",
      "689\n",
      "[{'Introduction to Human Nutrition: A Global Perspective on Food and Nutrition': 1, 'Body Composition': 12, 'Energy Metabolism': 31, 'Nutrition and Metabolism of Proteins and Amino Acids': 49, 'Digestion and Metabolism of Carbohydrates': 74, 'Nutrition and Metabolism of Lipids': 86, 'Dietary Reference Standards': 122, 'The Vitamins': 132, 'Minerals and Trace Elements': 188, 'Measuring Food Intake': 238, 'Food Composition': 276, 'Food and Nutrition: Policy and Regulatory Issues': 293, 'Nutrition Research Methodology': 305, 'Food Safety: A Public Health Issue of Growing Importance': 324, 'Food and Nutrition-Related Diseases: The Global Challenge': 350}]\n",
      "{'prompt_tokens': 261, 'completion_tokens': 180, 'total_tokens': 441}\n",
      "Manual-nutricion-dietetica-CARBAJAL.pdf\n",
      "índice\n",
      "[1]\n",
      "Manual de Nutrición  y Dietética \n",
      "Ángeles Carbajal Azcona. Departamento  de Nutrición.  Facultad de Farmacia.  Universidad  Complutense  de Madrid \n",
      "https://www.ucm.es/nutricioncarbajal/                                                                                                                                         2 \n",
      " \n",
      " Índice \n",
      " \n",
      "1. Algunos conceptos  básicos  ………………………………………………………………… 6\n",
      "2. Composición  corporal …………………………………………………………………………\n",
      " Composición  corporal \n",
      " Compartimentos  corporales  \n",
      " Antropometría  \n",
      " Peso ideal \n",
      " Índice de masa corporal \n",
      " Índice de masa corporal adecuado  \n",
      " Obesidad  11\n",
      "3. Ingestas recomendadas,  objetivos  nutricionales  y guías alimentarias  …\n",
      " Ingestas recomendadas  de energía y nutrientes  \n",
      " Ingestas dietéticas  de referencia,  nuevo enfoque \n",
      " Uso de las ingestas recomendadas  \n",
      " Tablas de ingestas recomendadas  para la población  española \n",
      " Objetivos  nutricionales  \n",
      " Guías alimentarias  18\n",
      "4. Energía ……………………………………………………………………………………………….\n",
      " Energía \n",
      " Unidades  de energía \n",
      " Perfil calórico \n",
      " Componentes  del gasto energético  \n",
      " Cálculo de las necesidades  de energía \n",
      " Balance necesidades  / ingesta de energía \n",
      " Calorías vacías 34\n",
      "5. Proteínas  ……………………………………………………………………………………………\n",
      " Proteínas  \n",
      " Aminoácidos  esenciales  y no esenciales  \n",
      " Calidad de la proteína 45\n",
      "6. Grasas y lípidos ……………………………………………………………………………………\n",
      " Lípidos o grasas. Ácidos grasos \n",
      " Funciones  \n",
      " Lipoproteínas  \n",
      " Grasas hidrogenadas.  Ácidos grasos trans \n",
      " Colesterol  \n",
      " Perfil lipídico sanguíneo  recomendado  \n",
      " Recomendaciones  dietéticas  49\n",
      "7. Hidratos de carbono ……………………………………………………………………………\n",
      " Hidratos de carbono \n",
      " Recomendaciones  dietéticas  \n",
      " Sustancias  edulcorantes  57\n",
      "8. Fibra dietética ……………………………………………………………………………………   62\n",
      "9. Agua …………………………………………………………………………………………………..\n",
      " El agua, el nutriente  olvidado,  el alimento olvidado 68\n",
      "OTHEEER\n",
      "1492\n",
      "[{'Algunos conceptos básicos': '6', 'Composición corporal': None, 'Ingestas recomendadas, objetivos nutricionales y guías alimentarias': None, 'Energía': None, 'Proteínas': None, 'Grasas y lípidos': None, 'Hidratos de carbono': None, 'Fibra dietética': '62', 'Agua': None, 'Minerales': None, 'Vitaminas': None, 'Otros componentes bioactivos': '102', 'Digestión y absorción de nutrientes': None, 'Los alimentos como fuente de energía, nutrientes y otros bioactivos': None, 'Valoración del estado nutricional': None, 'Dieta equilibrada': None, 'Calidad nutricional de la dieta': '189', 'Dieta Mediterránea. Modelo de dieta prudente y saludable': '199', 'Dieta en España. Consumo de alimentos': None, 'Dieta en España. Ingesta de energía y nutrientes': None}]\n",
      "{'prompt_tokens': 590, 'completion_tokens': 237, 'total_tokens': 827}\n",
      "Nutrition_Final_Print-ready_April_2011_.pdf\n",
      "contents\n",
      "[5]\n",
      " iv \n",
      "Study  \n",
      " Session\n",
      "1\n",
      " Food, Diet and Nutrition: an Overview\n",
      "2\n",
      " Nutrients and their Sources\n",
      "3\n",
      " Nutritional Requirements throughout the Lifecycle\n",
      "4\n",
      " Infant and Young Child Feeding\n",
      "5\n",
      " Nutritional Assessment\n",
      "6\n",
      " Common Nutritional Problems in Ethiopia\n",
      "7\n",
      "  Preventing Micronutrient Problems in Ethiopia \n",
      "8\n",
      " Household Food Security\n",
      "9\n",
      " Managing Acute Malnutrition\n",
      "10\n",
      " Managing Severe Acute Malnutrition\n",
      "11\n",
      " Nutrition Education and Counselling\n",
      "12\n",
      " Nutrition and HIV\n",
      "13\n",
      " Nutrition Information System\n",
      " Notes on the Self-Assessment Questions (SAQs)Contents\n",
      "OTHEEER\n",
      "287\n",
      "[{'Food, Diet and Nutrition: an Overview': '2', 'Nutritional Requirements throughout the Lifecycle': '4', 'Nutritional Assessment': '6', 'Preventing Micronutrient Problems in Ethiopia ': '8', 'Managing Acute Malnutrition': '10', 'Nutrition Education and Counselling': '12'}]\n",
      "{'prompt_tokens': 154, 'completion_tokens': 69, 'total_tokens': 223}\n"
     ]
    }
   ],
   "source": [
    "# Process all PDF files\n",
    "\n",
    "for pdf_file in pdf_files:\n",
    "    get_main_topics(pdf_file)"
   ]
  },
  {
   "cell_type": "code",
   "execution_count": 51,
   "metadata": {},
   "outputs": [],
   "source": [
    "def add_indices_to_keys(data):\n",
    "    for file_dict in data:\n",
    "        if isinstance(file_dict['matching_substrings'], list):\n",
    "            for sub_dict in file_dict['matching_substrings']:\n",
    "                new_sub_dict = {}\n",
    "                for idx, (key, value) in enumerate(sub_dict.items(), 1):\n",
    "                    # If the key doesn't already start with a numeric pattern, prepend it with the index\n",
    "                    if not re.match(r\"^\\d+(\\.\\d+)*\", key):\n",
    "                        new_sub_dict[f\"{idx}. {key}\"] = value\n",
    "                    else:\n",
    "                        new_sub_dict[key] = value\n",
    "                sub_dict.clear()\n",
    "                sub_dict.update(new_sub_dict)\n",
    "        else:\n",
    "            new_sub_dict = {}\n",
    "            for idx, (key, value) in enumerate(file_dict['matching_substrings'].items(), 1):\n",
    "                if not re.match(r\"^\\d+(\\.\\d+)*\", key):\n",
    "                    new_sub_dict[f\"{idx}. {key}\"] = value\n",
    "                else:\n",
    "                    new_sub_dict[key] = value\n",
    "            file_dict['matching_substrings'].clear()\n",
    "            file_dict['matching_substrings'].update(new_sub_dict)\n",
    "    return data\n",
    "\n",
    "all_content_numbers = add_indices_to_keys(all_content)"
   ]
  },
  {
   "cell_type": "code",
   "execution_count": 52,
   "metadata": {},
   "outputs": [
    {
     "name": "stdout",
     "output_type": "stream",
     "text": [
      "[{'file_name': 'Introduction to Human Nutrition 2nd Edition ( PDFDrive ).pdf', 'matching_substrings': [{'1. Introduction to Human Nutrition: A Global Perspective on Food and Nutrition': 1, '2. Body Composition': 12, '3. Energy Metabolism': 31, '4. Nutrition and Metabolism of Proteins and Amino Acids': 49, '5. Digestion and Metabolism of Carbohydrates': 74, '6. Nutrition and Metabolism of Lipids': 86, '7. Dietary Reference Standards': 122, '8. The Vitamins': 132, '9. Minerals and Trace Elements': 188, '10. Measuring Food Intake': 238, '11. Food Composition': 276, '12. Food and Nutrition: Policy and Regulatory Issues': 293, '13. Nutrition Research Methodology': 305, '14. Food Safety: A Public Health Issue of Growing Importance': 324, '15. Food and Nutrition-Related Diseases: The Global Challenge': 350}]}, {'file_name': 'Manual-nutricion-dietetica-CARBAJAL.pdf', 'matching_substrings': [{'1. Algunos conceptos básicos': '6', '2. Composición corporal': None, '3. Ingestas recomendadas, objetivos nutricionales y guías alimentarias': None, '4. Energía': None, '5. Proteínas': None, '6. Grasas y lípidos': None, '7. Hidratos de carbono': None, '8. Fibra dietética': '62', '9. Agua': None, '10. Minerales': None, '11. Vitaminas': None, '12. Otros componentes bioactivos': '102', '13. Digestión y absorción de nutrientes': None, '14. Los alimentos como fuente de energía, nutrientes y otros bioactivos': None, '15. Valoración del estado nutricional': None, '16. Dieta equilibrada': None, '17. Calidad nutricional de la dieta': '189', '18. Dieta Mediterránea. Modelo de dieta prudente y saludable': '199', '19. Dieta en España. Consumo de alimentos': None, '20. Dieta en España. Ingesta de energía y nutrientes': None}]}, {'file_name': 'Nutrition_Final_Print-ready_April_2011_.pdf', 'matching_substrings': [{'1. Food, Diet and Nutrition: an Overview': '2', '2. Nutritional Requirements throughout the Lifecycle': '4', '3. Nutritional Assessment': '6', '4. Preventing Micronutrient Problems in Ethiopia ': '8', '5. Managing Acute Malnutrition': '10', '6. Nutrition Education and Counselling': '12'}]}]\n"
     ]
    }
   ],
   "source": [
    "print(all_content_numbers)"
   ]
  },
  {
   "cell_type": "code",
   "execution_count": 53,
   "metadata": {},
   "outputs": [
    {
     "name": "stdout",
     "output_type": "stream",
     "text": [
      "[{'file_name': 'Introduction to Human Nutrition 2nd Edition ( PDFDrive ).pdf', 'matching_substrings': [{'Nutrition': 1, 'Composition': 276, 'Metabolism': 31, 'Acids': 49, 'Carbohydrates': 74, 'Lipids': 86, 'Standards': 122, 'Vitamins': 132, 'Elements': 188, 'Intake': 238, 'Issues': 293, 'Methodology': 305, 'Importance': 324, 'Challenge': 350}]}, {'file_name': 'Manual-nutricion-dietetica-CARBAJAL.pdf', 'matching_substrings': [{'básicos': '6', 'corporal': None, 'alimentarias': None, 'Energía': None, 'Proteínas': None, 'lípidos': None, 'carbono': None, 'dietética': '62', 'Agua': None, 'Minerales': None, 'Vitaminas': None, 'bioactivos': None, 'nutrientes': None, 'nutricional': None, 'equilibrada': None, 'dieta': '189', 'saludable': '199', 'alimentos': None}]}, {'file_name': 'Nutrition_Final_Print-ready_April_2011_.pdf', 'matching_substrings': [{'Overview': '2', 'Lifecycle': '4', 'Assessment': '6', '': '8', 'Malnutrition': '10', 'Counselling': '12'}]}]\n"
     ]
    }
   ],
   "source": [
    "def remove_numbers_from_key(data):\n",
    "    for item in data:\n",
    "        # Check if 'matching_substrings' is a list\n",
    "        if isinstance(item['matching_substrings'], list):\n",
    "            new_list = []\n",
    "            for sub_dict in item['matching_substrings']:\n",
    "                new_dict = {}\n",
    "                for key, value in sub_dict.items():\n",
    "                    # Extract text after the final space\n",
    "                    new_key = key[key.rfind(\" \")+1:]\n",
    "                    new_dict[new_key] = value\n",
    "                new_list.append(new_dict)\n",
    "            item['matching_substrings'] = new_list\n",
    "        else:\n",
    "            new_dict = {}\n",
    "            for key, value in item['matching_substrings'].items():\n",
    "                # Extract text after the final space\n",
    "                new_key = key[key.rfind(\" \")+1:]\n",
    "                new_dict[new_key] = value\n",
    "            item['matching_substrings'] = new_dict\n",
    "    return data\n",
    "\n",
    "all_content = remove_numbers_from_key(all_content)\n",
    "print(all_content)"
   ]
  },
  {
   "cell_type": "code",
   "execution_count": 54,
   "metadata": {},
   "outputs": [
    {
     "name": "stdout",
     "output_type": "stream",
     "text": [
      "[   {   'file_name': 'Introduction to Human Nutrition 2nd Edition ( PDFDrive '\n",
      "                     ').pdf',\n",
      "        'matching_substrings': [   {   'Nutrition': 1,\n",
      "                                       'Composition': 276,\n",
      "                                       'Metabolism': 31,\n",
      "                                       'Acids': 49,\n",
      "                                       'Carbohydrates': 74,\n",
      "                                       'Lipids': 86,\n",
      "                                       'Standards': 122,\n",
      "                                       'Vitamins': 132,\n",
      "                                       'Elements': 188,\n",
      "                                       'Intake': 238,\n",
      "                                       'Issues': 293,\n",
      "                                       'Methodology': 305,\n",
      "                                       'Importance': 324,\n",
      "                                       'Challenge': 350}]},\n",
      "    {   'file_name': 'Manual-nutricion-dietetica-CARBAJAL.pdf',\n",
      "        'matching_substrings': [   {   'básicos': '6',\n",
      "                                       'corporal': None,\n",
      "                                       'alimentarias': None,\n",
      "                                       'Energía': None,\n",
      "                                       'Proteínas': None,\n",
      "                                       'lípidos': None,\n",
      "                                       'carbono': None,\n",
      "                                       'dietética': '62',\n",
      "                                       'Agua': None,\n",
      "                                       'Minerales': None,\n",
      "                                       'Vitaminas': None,\n",
      "                                       'bioactivos': None,\n",
      "                                       'nutrientes': None,\n",
      "                                       'nutricional': None,\n",
      "                                       'equilibrada': None,\n",
      "                                       'dieta': '189',\n",
      "                                       'saludable': '199',\n",
      "                                       'alimentos': None}]},\n",
      "    {   'file_name': 'Nutrition_Final_Print-ready_April_2011_.pdf',\n",
      "        'matching_substrings': [   {   'Overview': '2',\n",
      "                                       'Lifecycle': '4',\n",
      "                                       'Assessment': '6',\n",
      "                                       '': '8',\n",
      "                                       'Malnutrition': '10',\n",
      "                                       'Counselling': '12'}]}]\n"
     ]
    }
   ],
   "source": [
    "import pprint\n",
    "\n",
    "pp = pprint.PrettyPrinter(indent=4, sort_dicts= False)\n",
    "pp.pprint(all_content_numbers)"
   ]
  },
  {
   "cell_type": "code",
   "execution_count": 55,
   "metadata": {},
   "outputs": [],
   "source": [
    "from langchain.embeddings import OpenAIEmbeddings\n",
    "\n",
    "from sklearn.cluster import KMeans"
   ]
  },
  {
   "cell_type": "code",
   "execution_count": 56,
   "metadata": {},
   "outputs": [],
   "source": [
    "embeddings = OpenAIEmbeddings(openai_api_key=\"\")\n",
    "\n",
    "# Initialize an empty list to hold the keys\n",
    "keys = []\n",
    "\n",
    "# Iterate over each dictionary in the list\n",
    "for item in all_content:\n",
    "    # If 'matching_substrings' is a list of dictionaries\n",
    "    if isinstance(item['matching_substrings'], list):\n",
    "        for sub_dict in item['matching_substrings']:\n",
    "            # Add all keys to the list\n",
    "            keys.extend(sub_dict.keys())\n",
    "    # If 'matching_substrings' is a dictionary\n",
    "    else:\n",
    "        # Add all keys to the list\n",
    "        keys.extend(item['matching_substrings'].keys())\n",
    "\n",
    "# Now 'keys' is a list of all keys from all 'matching_substrings' dictionaries\n",
    "# You can pass this list to your function as follows:\n",
    "\n",
    "vectors = embeddings.embed_documents([x for x in keys])"
   ]
  },
  {
   "cell_type": "code",
   "execution_count": 57,
   "metadata": {},
   "outputs": [
    {
     "name": "stdout",
     "output_type": "stream",
     "text": [
      "[{'file_name': 'Introduction to Human Nutrition 2nd Edition ( PDFDrive ).pdf', 'matching_substrings': [{'Nutrition': 1, 'Composition': 276, 'Metabolism': 31, 'Acids': 49, 'Carbohydrates': 74, 'Lipids': 86, 'Standards': 122, 'Vitamins': 132, 'Elements': 188, 'Intake': 238, 'Issues': 293, 'Methodology': 305, 'Importance': 324, 'Challenge': 350}]}, {'file_name': 'Manual-nutricion-dietetica-CARBAJAL.pdf', 'matching_substrings': [{'básicos': '6', 'corporal': None, 'alimentarias': None, 'Energía': None, 'Proteínas': None, 'lípidos': None, 'carbono': None, 'dietética': '62', 'Agua': None, 'Minerales': None, 'Vitaminas': None, 'bioactivos': None, 'nutrientes': None, 'nutricional': None, 'equilibrada': None, 'dieta': '189', 'saludable': '199', 'alimentos': None}]}, {'file_name': 'Nutrition_Final_Print-ready_April_2011_.pdf', 'matching_substrings': [{'Overview': '2', 'Lifecycle': '4', 'Assessment': '6', '': '8', 'Malnutrition': '10', 'Counselling': '12'}]}]\n",
      "['Nutrition', 'Composition', 'Metabolism', 'Acids', 'Carbohydrates', 'Lipids', 'Standards', 'Vitamins', 'Elements', 'Intake', 'Issues', 'Methodology', 'Importance', 'Challenge', 'básicos', 'corporal', 'alimentarias', 'Energía', 'Proteínas', 'lípidos', 'carbono', 'dietética', 'Agua', 'Minerales', 'Vitaminas', 'bioactivos', 'nutrientes', 'nutricional', 'equilibrada', 'dieta', 'saludable', 'alimentos', 'Overview', 'Lifecycle', 'Assessment', '', 'Malnutrition', 'Counselling']\n"
     ]
    }
   ],
   "source": [
    "print(all_content)\n",
    "\n",
    "print(keys)"
   ]
  },
  {
   "cell_type": "code",
   "execution_count": 1,
   "metadata": {},
   "outputs": [
    {
     "ename": "NameError",
     "evalue": "name 'KMeans' is not defined",
     "output_type": "error",
     "traceback": [
      "\u001b[1;31m---------------------------------------------------------------------------\u001b[0m",
      "\u001b[1;31mNameError\u001b[0m                                 Traceback (most recent call last)",
      "Cell \u001b[1;32mIn[1], line 4\u001b[0m\n\u001b[0;32m      1\u001b[0m num_clusters \u001b[39m=\u001b[39m \u001b[39m10\u001b[39m\n\u001b[0;32m      3\u001b[0m \u001b[39m# Perform K-means clustering\u001b[39;00m\n\u001b[1;32m----> 4\u001b[0m kmeans \u001b[39m=\u001b[39m KMeans(n_clusters\u001b[39m=\u001b[39mnum_clusters, random_state\u001b[39m=\u001b[39m\u001b[39m42\u001b[39m)\u001b[39m.\u001b[39mfit(vectors)\n",
      "\u001b[1;31mNameError\u001b[0m: name 'KMeans' is not defined"
     ]
    }
   ],
   "source": [
    "num_clusters = 10\n",
    "\n",
    "# Perform K-means clustering\n",
    "kmeans = KMeans(n_clusters=num_clusters, random_state=42).fit(vectors)"
   ]
  },
  {
   "cell_type": "code",
   "execution_count": 59,
   "metadata": {},
   "outputs": [
    {
     "data": {
      "text/plain": [
       "array([1, 9, 1, 3, 1, 3, 2, 3, 9, 2, 4, 2, 2, 4, 0, 6, 0, 7, 0, 0, 7, 0,\n",
       "       7, 0, 0, 0, 0, 0, 5, 0, 5, 0, 4, 4, 2, 8, 1, 2])"
      ]
     },
     "execution_count": 59,
     "metadata": {},
     "output_type": "execute_result"
    }
   ],
   "source": [
    "kmeans.labels_"
   ]
  },
  {
   "cell_type": "code",
   "execution_count": 60,
   "metadata": {},
   "outputs": [
    {
     "data": {
      "image/png": "[encoded data removed]",
      "text/plain": [
       "<Figure size 640x480 with 1 Axes>"
      ]
     },
     "metadata": {},
     "output_type": "display_data"
    }
   ],
   "source": [
    "from sklearn.manifold import TSNE\n",
    "import matplotlib.pyplot as plt\n",
    "import numpy as np\n",
    "\n",
    "# Taking out the warnings\n",
    "import warnings\n",
    "from warnings import simplefilter\n",
    "\n",
    "# Filter out FutureWarnings\n",
    "simplefilter(action='ignore', category=FutureWarning)\n",
    "\n",
    "# Convert vectors to a numpy array\n",
    "vectors_np = np.array(vectors)\n",
    "\n",
    "# Perform t-SNE and reduce to 2 dimensions\n",
    "tsne = TSNE(n_components=2, random_state=42)\n",
    "reduced_data_tsne = tsne.fit_transform(vectors_np)\n",
    "\n",
    "# Plot the reduced data\n",
    "plt.scatter(reduced_data_tsne[:, 0], reduced_data_tsne[:, 1], c=kmeans.labels_)\n",
    "plt.xlabel('Dimension 1')\n",
    "plt.ylabel('Dimension 2')\n",
    "plt.title('Book Embeddings Clustered')\n",
    "plt.show()"
   ]
  },
  {
   "cell_type": "code",
   "execution_count": 61,
   "metadata": {},
   "outputs": [
    {
     "name": "stdout",
     "output_type": "stream",
     "text": [
      "[ 0 -1 -1 -1 -1 -1 -1 -1 -1 -1 -1 -1 -1 -1 -1 -1  0 -1 -1 -1 -1  0 -1 -1\n",
      " -1 -1  0  0 -1 -1 -1 -1 -1 -1 -1 -1 -1 -1]\n"
     ]
    },
    {
     "data": {
      "image/png": "[encoded data removed]",
      "text/plain": [
       "<Figure size 640x480 with 1 Axes>"
      ]
     },
     "metadata": {},
     "output_type": "display_data"
    }
   ],
   "source": [
    "from sklearn.cluster import DBSCAN\n",
    "\n",
    "# Initialize DBSCAN\n",
    "dbscan = DBSCAN(eps=0.5, min_samples=5)\n",
    "\n",
    "# Fit DBSCAN to the data\n",
    "dbscan_labels = dbscan.fit_predict(vectors)\n",
    "\n",
    "# Print labels\n",
    "print(dbscan_labels)\n",
    "\n",
    "from sklearn.manifold import TSNE\n",
    "import matplotlib.pyplot as plt\n",
    "import numpy as np\n",
    "\n",
    "# Convert vectors to a numpy array\n",
    "vectors_np = np.array(vectors)\n",
    "\n",
    "# Perform t-SNE and reduce to 2 dimensions\n",
    "tsne = TSNE(n_components=2, random_state=42)\n",
    "reduced_data_tsne = tsne.fit_transform(vectors_np)\n",
    "\n",
    "# Plot the reduced data\n",
    "plt.scatter(reduced_data_tsne[:, 0], reduced_data_tsne[:, 1], c=dbscan_labels)\n",
    "plt.xlabel('Dimension 1')\n",
    "plt.ylabel('Dimension 2')\n",
    "plt.title('Book Embeddings Clustered')\n",
    "plt.show()\n"
   ]
  },
  {
   "cell_type": "code",
   "execution_count": 62,
   "metadata": {},
   "outputs": [
    {
     "name": "stdout",
     "output_type": "stream",
     "text": [
      "Cluster 0:\n",
      "['básicos', 'alimentarias', 'Proteínas', 'lípidos', 'dietética', 'Minerales', 'Vitaminas', 'bioactivos', 'nutrientes', 'nutricional', 'dieta', 'alimentos']\n",
      "Cluster 1:\n",
      "['Nutrition', 'Metabolism', 'Carbohydrates', 'Malnutrition']\n",
      "Cluster 2:\n",
      "['Standards', 'Intake', 'Methodology', 'Importance', 'Assessment', 'Counselling']\n",
      "Cluster 3:\n",
      "['Acids', 'Lipids', 'Vitamins']\n",
      "Cluster 4:\n",
      "['Issues', 'Challenge', 'Overview', 'Lifecycle']\n",
      "Cluster 5:\n",
      "['equilibrada', 'saludable']\n",
      "Cluster 6:\n",
      "['corporal']\n",
      "Cluster 7:\n",
      "['Energía', 'carbono', 'Agua']\n",
      "Cluster 8:\n",
      "['']\n",
      "Cluster 9:\n",
      "['Composition', 'Elements']\n"
     ]
    }
   ],
   "source": [
    "# For KMeans\n",
    "for i in range(num_clusters):\n",
    "    print(f\"Cluster {i}:\")\n",
    "    indices = [index for index, value in enumerate(kmeans.labels_) if value == i]\n",
    "    print([keys[j] for j in indices])"
   ]
  },
  {
   "cell_type": "code",
   "execution_count": 63,
   "metadata": {},
   "outputs": [
    {
     "name": "stdout",
     "output_type": "stream",
     "text": [
      "Cluster -1:\n",
      "['Composition', 'Metabolism', 'Acids', 'Carbohydrates', 'Lipids', 'Standards', 'Vitamins', 'Elements', 'Intake', 'Issues', 'Methodology', 'Importance', 'Challenge', 'básicos', 'corporal', 'Energía', 'Proteínas', 'lípidos', 'carbono', 'Agua', 'Minerales', 'Vitaminas', 'bioactivos', 'equilibrada', 'dieta', 'saludable', 'alimentos', 'Overview', 'Lifecycle', 'Assessment', '', 'Malnutrition', 'Counselling']\n",
      "Cluster 0:\n",
      "['Nutrition', 'alimentarias', 'dietética', 'nutrientes', 'nutricional']\n"
     ]
    }
   ],
   "source": [
    "# For DBSCAN\n",
    "# First, find out how many unique clusters we have\n",
    "unique_clusters = np.unique(dbscan_labels)\n",
    "\n",
    "for i in unique_clusters:\n",
    "    print(f\"Cluster {i}:\")\n",
    "    indices = [index for index, value in enumerate(dbscan_labels) if value == i]\n",
    "    print([keys[j] for j in indices])"
   ]
  },
  {
   "cell_type": "code",
   "execution_count": 64,
   "metadata": {},
   "outputs": [],
   "source": [
    "# For KMeans\n",
    "clusters_kmeans = []\n",
    "for i in range(num_clusters):\n",
    "    indices = [index for index, value in enumerate(kmeans.labels_) if value == i]\n",
    "    cluster_i = [keys[j] for j in indices]\n",
    "    clusters_kmeans.append(cluster_i)"
   ]
  },
  {
   "cell_type": "code",
   "execution_count": 65,
   "metadata": {},
   "outputs": [
    {
     "name": "stdout",
     "output_type": "stream",
     "text": [
      "Nutrición y Alimentación\n",
      "{'prompt_tokens': 131, 'completion_tokens': 7, 'total_tokens': 138}\n",
      "Nutrition\n",
      "{'prompt_tokens': 90, 'completion_tokens': 2, 'total_tokens': 92}\n",
      "Nutrition\n",
      "{'prompt_tokens': 97, 'completion_tokens': 2, 'total_tokens': 99}\n",
      "Nutrition\n",
      "{'prompt_tokens': 86, 'completion_tokens': 2, 'total_tokens': 88}\n",
      "Nutrition\n",
      "{'prompt_tokens': 84, 'completion_tokens': 2, 'total_tokens': 86}\n",
      "Alimentación equilibrada y saludable\n",
      "{'prompt_tokens': 83, 'completion_tokens': 10, 'total_tokens': 93}\n",
      "corporal\n",
      "{'prompt_tokens': 77, 'completion_tokens': 3, 'total_tokens': 80}\n",
      "Nutrición\n",
      "{'prompt_tokens': 85, 'completion_tokens': 3, 'total_tokens': 88}\n",
      "['']\n",
      "{'prompt_tokens': 74, 'completion_tokens': 2, 'total_tokens': 76}\n",
      "Composition and Elements\n",
      "{'prompt_tokens': 78, 'completion_tokens': 3, 'total_tokens': 81}\n"
     ]
    }
   ],
   "source": [
    "for i in clusters_kmeans:     \n",
    "    system_message_clean = f\"\"\" \n",
    "    You are going to receive an array of strings. They are topics of the table of contents of a pdf of {assessable}. \\n\n",
    "    The array will be between triple backstrick (```). \\n\n",
    "    Find a topic that associate all the words of the array. \\n\n",
    "    Just output the topic text. ```{i}``` \"\"\"\n",
    "\n",
    "    messages =  [  \n",
    "    {'role':'system', \n",
    "    'content': system_message_clean},  \n",
    "    ] \n",
    "    response, token_dict = get_completion_and_token_count(messages)\n",
    "    print(response)\n",
    "    print(token_dict)"
   ]
  },
  {
   "cell_type": "code",
   "execution_count": 66,
   "metadata": {},
   "outputs": [
    {
     "name": "stdout",
     "output_type": "stream",
     "text": [
      "[['Composition', 'Metabolism', 'Acids', 'Carbohydrates', 'Lipids', 'Standards', 'Vitamins', 'Elements', 'Intake', 'Issues', 'Methodology', 'Importance', 'Challenge', 'básicos', 'corporal', 'Energía', 'Proteínas', 'lípidos', 'carbono', 'Agua', 'Minerales', 'Vitaminas', 'bioactivos', 'equilibrada', 'dieta', 'saludable', 'alimentos', 'Overview', 'Lifecycle', 'Assessment', '', 'Malnutrition', 'Counselling'], ['Nutrition', 'alimentarias', 'dietética', 'nutrientes', 'nutricional']]\n",
      "[-1  0]\n"
     ]
    }
   ],
   "source": [
    "# For DBSCAN\n",
    "clusters_dbscan = []\n",
    "unique_clusters = np.unique(dbscan_labels)\n",
    "\n",
    "for i in unique_clusters:\n",
    "    indices = [index for index, value in enumerate(dbscan_labels) if value == i]\n",
    "    cluster_i = [keys[j] for j in indices]\n",
    "    clusters_dbscan.append(cluster_i)\n",
    "\n",
    "print(clusters_dbscan)\n",
    "print(unique_clusters)\n",
    "clusters_dbscan_flat = [item for sublist in clusters_dbscan for item in sublist]\n",
    "c_dbsccan=np.append(clusters_dbscan_flat,unique_clusters)\n"
   ]
  },
  {
   "cell_type": "code",
   "execution_count": 67,
   "metadata": {},
   "outputs": [
    {
     "name": "stdout",
     "output_type": "stream",
     "text": [
      "If there is no topic that associates all the words.\n",
      "{'prompt_tokens': 78, 'completion_tokens': 11, 'total_tokens': 89}\n",
      "The topic text is \"Nutrition\".\n",
      "{'prompt_tokens': 77, 'completion_tokens': 8, 'total_tokens': 85}\n"
     ]
    }
   ],
   "source": [
    "for i in unique_clusters:     \n",
    "    system_message_clean = f\"\"\" \n",
    "    You are going to receive an array of strings. They are topics of the table of contents of a pdf of {assessable}. \\n\n",
    "    The array will be between triple backstrick (```). \\n\n",
    "    You must find a topic or phrase that associate all the words of the array. \\n\n",
    "    Just output the topic text. ```{i}``` \"\"\"\n",
    "\n",
    "    messages =  [  \n",
    "    {'role':'system', \n",
    "    'content': system_message_clean},  \n",
    "    ] \n",
    "    response, token_dict = get_completion_and_token_count(messages)\n",
    "    print(response)\n",
    "    print(token_dict)"
   ]
  }
 ],
 "metadata": {
  "kernelspec": {
   "display_name": "Python 3",
   "language": "python",
   "name": "python3"
  },
  "language_info": {
   "codemirror_mode": {
    "name": "ipython",
    "version": 3
   },
   "file_extension": ".py",
   "mimetype": "text/x-python",
   "name": "python",
   "nbconvert_exporter": "python",
   "pygments_lexer": "ipython3",
   "version": "3.11.3"
  },
  "orig_nbformat": 4
 },
 "nbformat": 4,
 "nbformat_minor": 2
}
