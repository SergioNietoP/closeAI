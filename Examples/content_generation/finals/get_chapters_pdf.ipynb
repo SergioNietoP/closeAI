{
 "cells": [
  {
   "cell_type": "code",
   "execution_count": 18,
   "metadata": {},
   "outputs": [],
   "source": [
    "import PyPDF2\n",
    "\n",
    "text_content = []\n",
    "\n",
    "def extract_text(pdf_file):\n",
    "    # Open the pdf file\n",
    "    with open(pdf_file, 'rb') as file:\n",
    "        # Initialize a pdf file reader\n",
    "        reader = PyPDF2.PdfReader(file)\n",
    "\n",
    "        # Loop through each page\n",
    "        for i in range(len(reader.pages)):\n",
    "            # Get the text content of the page\n",
    "            page = reader.pages[i]\n",
    "            text = page.extract_text()\n",
    "\n",
    "            # Save the text to a separate file\n",
    "\n",
    "            # Add the text to the list\n",
    "            text_content.append(text)\n",
    "extract_text(r'C:\\Users\\Sergio\\Desktop\\TWS\\tws-workspace\\closeAI\\Examples\\content_generation\\content\\Manual-nutricion-dietetica-CARBAJAL.pdf')"
   ]
  },
  {
   "cell_type": "code",
   "execution_count": 19,
   "metadata": {},
   "outputs": [
    {
     "name": "stdout",
     "output_type": "stream",
     "text": [
      "[(1, [('contents', False), ('indice', False), ('index', False), ('índice', True), ('table of contents', False)]), (10, [('contents', False), ('indice', False), ('index', False), ('índice', True), ('table of contents', False)]), (12, [('contents', False), ('indice', False), ('index', False), ('índice', True), ('table of contents', False)]), (13, [('contents', False), ('indice', False), ('index', False), ('índice', True), ('table of contents', False)]), (14, [('contents', False), ('indice', False), ('index', False), ('índice', True), ('table of contents', False)])]\n"
     ]
    }
   ],
   "source": [
    "substrings = ['contents', 'indice', 'index', 'índice', 'table of contents']\n",
    "\n",
    "text_content_first = text_content[:15]\n",
    "\n",
    "\n",
    "results = list(filter(lambda x: any(sub_res[1] for sub_res in x[1]), enumerate(map(lambda s: [(sub, s.lower().find(sub) != -1) for sub in substrings], text_content_first))))\n",
    "\n",
    "print(results)"
   ]
  },
  {
   "cell_type": "code",
   "execution_count": 20,
   "metadata": {},
   "outputs": [
    {
     "name": "stdout",
     "output_type": "stream",
     "text": [
      "Substring found: índice\n",
      "Indices where found: [1, 10, 12, 13, 14]\n"
     ]
    }
   ],
   "source": [
    "def find_substring(results, substrings):\n",
    "    # For each substring\n",
    "    for sub in substrings:\n",
    "        # Store indices where the substring is found\n",
    "        found_indices = []\n",
    "\n",
    "        # For each result\n",
    "        for index, sub_results in results:\n",
    "            # For each substring result\n",
    "            for sub_res, found in sub_results:\n",
    "                # If the current substring matches and it was found\n",
    "                if sub_res == sub and found:\n",
    "                    # Store the index\n",
    "                    found_indices.append(index)\n",
    "        \n",
    "        # If the substring was found at least once\n",
    "        if found_indices:\n",
    "            # Return the substring and the indices where it was found\n",
    "            return sub, found_indices\n",
    "\n",
    "    # If none of the substrings were found\n",
    "    return None, []\n",
    "\n",
    "# Specify the substrings in the order you want to search for them\n",
    "substrings = [\"table of contents\", \"indice\", \"index\", \"índice\", \"contents\"]\n",
    "\n",
    "# Call the function with your results and substrings\n",
    "found_substring, found_indices = find_substring(results, substrings)\n",
    "\n",
    "print(\"Substring found:\", found_substring)\n",
    "print(\"Indices where found:\", found_indices)\n"
   ]
  },
  {
   "cell_type": "code",
   "execution_count": 21,
   "metadata": {},
   "outputs": [
    {
     "name": "stdout",
     "output_type": "stream",
     "text": [
      "['1. Algunos\\xa0conceptos \\xa0básicos\\xa0\\xa0………………………………………………………………… 6', '2. Composición \\xa0corporal\\xa0…………………………………………………………………………', '3. Ingestas\\xa0recomendadas, \\xa0objetivos \\xa0nutricionales \\xa0y\\xa0guías\\xa0alimentarias \\xa0…', '4. Energía\\xa0……………………………………………………………………………………………….', '5. Proteínas \\xa0……………………………………………………………………………………………', '6. Grasas\\xa0y\\xa0lípidos ……………………………………………………………………………………', '7. Hidratos\\xa0de\\xa0carbono\\xa0……………………………………………………………………………', '8. Fibra\\xa0dietética\\xa0…………………………………………………………………………………… \\xa0 62', '9. Agua\\xa0…………………………………………………………………………………………………..', '10. Minerales \\xa0……………………………………………………………………………………………', '11. Vitaminas \\xa0……………………………………………………………………………………………', '12. Otros\\xa0componentes \\xa0bioactivos …………………………………………………………… 102', '13. Digestión \\xa0y\\xa0absorción \\xa0de\\xa0nutrientes ……………………………………………………', '14. Los\\xa0alimentos \\xa0como\\xa0fuente\\xa0de\\xa0energía,\\xa0nutrientes \\xa0y\\xa0otros\\xa0bioactivos \\xa0…', '15. Valoración \\xa0del\\xa0estado\\xa0nutricional ……………………………………………………… \\xa0', '16. Dieta\\xa0equilibrada \\xa0…………………………………………………………………………………', '17. Calidad\\xa0nutricional \\xa0de\\xa0la\\xa0dieta …………………………………………………………… \\xa0 189', '18. Dieta\\xa0Mediterránea. \\xa0Modelo\\xa0de\\xa0dieta\\xa0prudente \\xa0y\\xa0saludable \\xa0……………… 199', '19. Dieta\\xa0en\\xa0España.\\xa0Consumo \\xa0de\\xa0alimentos …………………………………………… \\xa0', '20. Dieta\\xa0en\\xa0España.\\xa0Ingesta\\xa0de\\xa0energía\\xa0y\\xa0nutrientes …………………………………']\n"
     ]
    }
   ],
   "source": [
    "import re\n",
    "\n",
    "index_location = found_indices[:1]\n",
    "index_location = int(index_location[0])\n",
    "\n",
    "pattern = re.compile(r\"^\\d+\\. .+\", re.MULTILINE)\n",
    "\n",
    "all_matching_substrings = []\n",
    "\n",
    "for i in range(index_location, index_location + 3):\n",
    "    matching_substrings = pattern.findall(text_content[i])\n",
    "    all_matching_substrings.extend(matching_substrings)\n",
    "\n",
    "print(all_matching_substrings)\n"
   ]
  },
  {
   "cell_type": "code",
   "execution_count": null,
   "metadata": {},
   "outputs": [],
   "source": [
    "OPENAI_API_KEY = \"\""
   ]
  }
 ],
 "metadata": {
  "kernelspec": {
   "display_name": "Python 3",
   "language": "python",
   "name": "python3"
  },
  "language_info": {
   "codemirror_mode": {
    "name": "ipython",
    "version": 3
   },
   "file_extension": ".py",
   "mimetype": "text/x-python",
   "name": "python",
   "nbconvert_exporter": "python",
   "pygments_lexer": "ipython3",
   "version": "3.11.4"
  },
  "orig_nbformat": 4
 },
 "nbformat": 4,
 "nbformat_minor": 2
}
