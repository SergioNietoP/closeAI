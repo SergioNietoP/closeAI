{
 "cells": [
  {
   "cell_type": "code",
   "execution_count": 14,
   "metadata": {},
   "outputs": [],
   "source": [
    "import PyPDF2\n",
    "\n",
    "text_content = []\n",
    "\n",
    "def extract_text(pdf_file):\n",
    "    # Open the pdf file\n",
    "    with open(pdf_file, 'rb') as file:\n",
    "        # Initialize a pdf file reader\n",
    "        reader = PyPDF2.PdfReader(file)\n",
    "\n",
    "        # Loop through each page\n",
    "        for i in range(len(reader.pages)):\n",
    "            # Get the text content of the page\n",
    "            page = reader.pages[i]\n",
    "            text = page.extract_text()\n",
    "\n",
    "            # Save the text to a separate file\n",
    "\n",
    "            # Add the text to the list\n",
    "            text_content.append(text)\n",
    "extract_text(r'C:\\Users\\Sergio\\Desktop\\tws-workspace\\closeAI\\Examples\\content_generation\\content\\Introduction to Human Nutrition 2nd Edition ( PDFDrive ).pdf')"
   ]
  },
  {
   "cell_type": "code",
   "execution_count": 17,
   "metadata": {},
   "outputs": [
    {
     "name": "stdout",
     "output_type": "stream",
     "text": [
      "Manual de Nutrición  y Dietética \n",
      "Ángeles Carbajal Azcona. Departamento  de Nutrición.  Facultad de Farmacia.  Universidad  Complutense  de Madrid \n",
      "https://www.ucm.es/nutricioncarbajal/                                                                                                                                         4 \n",
      " \n",
      " o Carnes y derivados  \n",
      "o Pescados  y mariscos \n",
      " Bebidas \n",
      " Condimentos  y especias \n",
      " Pérdidas de vitaminas  al procesar los alimentos  \n",
      " Fortificación  o enriquecimiento  de los alimentos  \n",
      " Productos  light o ligeros \n",
      " Etiquetado  nutricional  \n",
      "15. Valoración  del estado nutricional ………………………………………………………  \n",
      " Encuestas  dietéticas  \n",
      " Diario dietético \n",
      " Recuerdo  de 24 horas \n",
      " Historia dietética \n",
      " Modelos de cuestionarios  151\n",
      "16. Dieta equilibrada  …………………………………………………………………………………\n",
      " Concepto  actual de dieta prudente  y nutrición óptima \n",
      " Características  de la dieta equilibrada  \n",
      " Beneficios  de componentes  no nutritivos  \n",
      " Recomendaciones  dietéticas  \n",
      " Importancia  del desayuno  \n",
      " Hábitos alimentarios  168\n",
      "17. Calidad nutricional  de la dieta ……………………………………………………………   189\n",
      "18. Dieta Mediterránea.  Modelo de dieta prudente  y saludable  ……………… 199\n",
      "19. Dieta en España. Consumo  de alimentos ……………………………………………  \n",
      " La dieta mediterránea  en España \n",
      " Metodología  del Estudio Nacional de Nutrición  y Alimentación  (ENNA) \n",
      " Consumo  de alimentos  en España \n",
      "- Cereales y derivados  \n",
      "- Azúcares y dulces \n",
      "- Verduras y hortalizas  \n",
      "- Legumbres  \n",
      "- Frutas \n",
      "- Lácteos \n",
      "- Huevos \n",
      "- Carnes y derivados  \n",
      "- Pescados  \n",
      "- Aceites y grasas \n",
      "- Bebidas 223\n",
      "20. Dieta en España. Ingesta de energía y nutrientes …………………………………\n",
      " Ingesta de energía y nutrientes  en España \n",
      "‐ Energía \n",
      "‐ Proteínas  \n",
      "‐ Hidratos de carbono \n",
      "‐ Fibra dietética \n",
      "‐ Lípidos \n",
      "‐ Minerales  y vitaminas  \n",
      " Influencia  de factores socioeconómicos  245\n"
     ]
    }
   ],
   "source": [
    "print(text_content[3])"
   ]
  }
 ],
 "metadata": {
  "kernelspec": {
   "display_name": "Python 3",
   "language": "python",
   "name": "python3"
  },
  "language_info": {
   "codemirror_mode": {
    "name": "ipython",
    "version": 3
   },
   "file_extension": ".py",
   "mimetype": "text/x-python",
   "name": "python",
   "nbconvert_exporter": "python",
   "pygments_lexer": "ipython3",
   "version": "3.11.3"
  },
  "orig_nbformat": 4
 },
 "nbformat": 4,
 "nbformat_minor": 2
}
