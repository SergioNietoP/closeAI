{
 "cells": [
  {
   "cell_type": "code",
   "execution_count": 9,
   "metadata": {},
   "outputs": [
    {
     "ename": "UnicodeEncodeError",
     "evalue": "'charmap' codec can't encode character '\\uf0b7' in position 459: character maps to <undefined>",
     "output_type": "error",
     "traceback": [
      "\u001b[1;31m---------------------------------------------------------------------------\u001b[0m",
      "\u001b[1;31mUnicodeEncodeError\u001b[0m                        Traceback (most recent call last)",
      "Cell \u001b[1;32mIn[9], line 19\u001b[0m\n\u001b[0;32m     16\u001b[0m             \u001b[39mwith\u001b[39;00m \u001b[39mopen\u001b[39m(\u001b[39mf\u001b[39m\u001b[39m'\u001b[39m\u001b[39mpage_\u001b[39m\u001b[39m{\u001b[39;00mi\u001b[39m \u001b[39m\u001b[39m+\u001b[39m\u001b[39m \u001b[39m\u001b[39m1\u001b[39m\u001b[39m}\u001b[39;00m\u001b[39m.txt\u001b[39m\u001b[39m'\u001b[39m, \u001b[39m'\u001b[39m\u001b[39mw\u001b[39m\u001b[39m'\u001b[39m) \u001b[39mas\u001b[39;00m text_file:\n\u001b[0;32m     17\u001b[0m                 text_file\u001b[39m.\u001b[39mwrite(text)\n\u001b[1;32m---> 19\u001b[0m extract_text(\u001b[39mr\u001b[39;49m\u001b[39m'\u001b[39;49m\u001b[39mC:\u001b[39;49m\u001b[39m\\\u001b[39;49m\u001b[39mUsers\u001b[39;49m\u001b[39m\\\u001b[39;49m\u001b[39mSergio\u001b[39;49m\u001b[39m\\\u001b[39;49m\u001b[39mDesktop\u001b[39;49m\u001b[39m\\\u001b[39;49m\u001b[39mtws-workspace\u001b[39;49m\u001b[39m\\\u001b[39;49m\u001b[39mcloseAI\u001b[39;49m\u001b[39m\\\u001b[39;49m\u001b[39mExamples\u001b[39;49m\u001b[39m\\\u001b[39;49m\u001b[39mcontent_generation\u001b[39;49m\u001b[39m\\\u001b[39;49m\u001b[39mcontent\u001b[39;49m\u001b[39m\\\u001b[39;49m\u001b[39mManual-nutricion-dietetica-CARBAJAL.pdf\u001b[39;49m\u001b[39m'\u001b[39;49m)\n",
      "Cell \u001b[1;32mIn[9], line 17\u001b[0m, in \u001b[0;36mextract_text\u001b[1;34m(pdf_file)\u001b[0m\n\u001b[0;32m     15\u001b[0m \u001b[39m# Save the text to a separate file\u001b[39;00m\n\u001b[0;32m     16\u001b[0m \u001b[39mwith\u001b[39;00m \u001b[39mopen\u001b[39m(\u001b[39mf\u001b[39m\u001b[39m'\u001b[39m\u001b[39mpage_\u001b[39m\u001b[39m{\u001b[39;00mi\u001b[39m \u001b[39m\u001b[39m+\u001b[39m\u001b[39m \u001b[39m\u001b[39m1\u001b[39m\u001b[39m}\u001b[39;00m\u001b[39m.txt\u001b[39m\u001b[39m'\u001b[39m, \u001b[39m'\u001b[39m\u001b[39mw\u001b[39m\u001b[39m'\u001b[39m) \u001b[39mas\u001b[39;00m text_file:\n\u001b[1;32m---> 17\u001b[0m     text_file\u001b[39m.\u001b[39;49mwrite(text)\n",
      "File \u001b[1;32mc:\\Users\\Sergio\\AppData\\Local\\Programs\\Python\\Python311\\Lib\\encodings\\cp1252.py:19\u001b[0m, in \u001b[0;36mIncrementalEncoder.encode\u001b[1;34m(self, input, final)\u001b[0m\n\u001b[0;32m     18\u001b[0m \u001b[39mdef\u001b[39;00m \u001b[39mencode\u001b[39m(\u001b[39mself\u001b[39m, \u001b[39minput\u001b[39m, final\u001b[39m=\u001b[39m\u001b[39mFalse\u001b[39;00m):\n\u001b[1;32m---> 19\u001b[0m     \u001b[39mreturn\u001b[39;00m codecs\u001b[39m.\u001b[39;49mcharmap_encode(\u001b[39minput\u001b[39;49m,\u001b[39mself\u001b[39;49m\u001b[39m.\u001b[39;49merrors,encoding_table)[\u001b[39m0\u001b[39m]\n",
      "\u001b[1;31mUnicodeEncodeError\u001b[0m: 'charmap' codec can't encode character '\\uf0b7' in position 459: character maps to <undefined>"
     ]
    }
   ],
   "source": [
    "import PyPDF2\n",
    "\n",
    "def extract_text(pdf_file):\n",
    "    # Open the pdf file\n",
    "    with open(pdf_file, 'rb') as file:\n",
    "        # Initialize a pdf file reader\n",
    "        reader = PyPDF2.PdfReader(file)\n",
    "\n",
    "        # Loop through each page\n",
    "        for i in range(len(reader.pages)):\n",
    "            # Get the text content of the page\n",
    "            page = reader.pages[i]\n",
    "            text = page.extract_text()\n",
    "\n",
    "            # Save the text to a separate file\n",
    "            with open(f'page_{i + 1}.txt', 'w', encoding=\"utf-8\") as text_file:\n",
    "                text_file.write(text)\n",
    "\n",
    "extract_text(r'C:\\Users\\Sergio\\Desktop\\tws-workspace\\closeAI\\Examples\\content_generation\\content\\Manual-nutricion-dietetica-CARBAJAL.pdf')"
   ]
  }
 ],
 "metadata": {
  "kernelspec": {
   "display_name": "Python 3",
   "language": "python",
   "name": "python3"
  },
  "language_info": {
   "codemirror_mode": {
    "name": "ipython",
    "version": 3
   },
   "file_extension": ".py",
   "mimetype": "text/x-python",
   "name": "python",
   "nbconvert_exporter": "python",
   "pygments_lexer": "ipython3",
   "version": "3.11.3"
  },
  "orig_nbformat": 4
 },
 "nbformat": 4,
 "nbformat_minor": 2
}
