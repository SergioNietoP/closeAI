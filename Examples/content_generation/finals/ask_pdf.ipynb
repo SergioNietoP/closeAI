{
 "cells": [
  {
   "cell_type": "code",
   "execution_count": 50,
   "metadata": {},
   "outputs": [],
   "source": [
    "# pip install langchain --upgrade\n",
    "# Version: 0.0.164\n",
    "\n",
    "# !pip install pypdf"
   ]
  },
  {
   "cell_type": "code",
   "execution_count": 51,
   "metadata": {},
   "outputs": [],
   "source": [
    "# PDF Loaders. If unstructured gives you a hard time, try PyPDFLoader\n",
    "from langchain.document_loaders import UnstructuredPDFLoader, OnlinePDFLoader, PyPDFLoader\n",
    "\n",
    "from langchain.text_splitter import RecursiveCharacterTextSplitter\n",
    "import os"
   ]
  },
  {
   "cell_type": "markdown",
   "metadata": {},
   "source": [
    "Load you data"
   ]
  },
  {
   "cell_type": "code",
   "execution_count": 52,
   "metadata": {},
   "outputs": [],
   "source": [
    "loader = PyPDFLoader(\"../content/nutrition/Manual-nutricion-dietetica-CARBAJAL.pdf\")"
   ]
  },
  {
   "cell_type": "code",
   "execution_count": 53,
   "metadata": {},
   "outputs": [],
   "source": [
    "data = loader.load()"
   ]
  },
  {
   "cell_type": "code",
   "execution_count": 54,
   "metadata": {},
   "outputs": [
    {
     "name": "stdout",
     "output_type": "stream",
     "text": [
      "You have 367 document(s) in your data\n",
      "There are 3330 characters in your document\n"
     ]
    }
   ],
   "source": [
    "# Note: If you're using PyPDFLoader then it will split by page for you already\n",
    "print (f'You have {len(data)} document(s) in your data')\n",
    "print (f'There are {len(data[30].page_content)} characters in your document')"
   ]
  },
  {
   "cell_type": "markdown",
   "metadata": {},
   "source": [
    "Chunk your data up into smaller documents"
   ]
  },
  {
   "cell_type": "code",
   "execution_count": 55,
   "metadata": {},
   "outputs": [],
   "source": [
    "\n",
    "# Note: If you're using PyPDFLoader then we'll be splitting for the 2nd time.\n",
    "# This is optional, test out on your own data.\n",
    "\n",
    "text_splitter = RecursiveCharacterTextSplitter(chunk_size=2000, chunk_overlap=0)\n",
    "texts = text_splitter.split_documents(data)"
   ]
  },
  {
   "cell_type": "code",
   "execution_count": 56,
   "metadata": {},
   "outputs": [
    {
     "name": "stdout",
     "output_type": "stream",
     "text": [
      "Now you have 566 documents\n"
     ]
    }
   ],
   "source": [
    "print (f'Now you have {len(texts)} documents')"
   ]
  },
  {
   "cell_type": "markdown",
   "metadata": {},
   "source": [
    "Create embeddings of your documents to get ready for semantic search"
   ]
  },
  {
   "cell_type": "code",
   "execution_count": 57,
   "metadata": {},
   "outputs": [],
   "source": [
    "from langchain.vectorstores import Chroma, Pinecone\n",
    "from langchain.embeddings.openai import OpenAIEmbeddings\n",
    "import pinecone"
   ]
  },
  {
   "cell_type": "code",
   "execution_count": 58,
   "metadata": {},
   "outputs": [],
   "source": [
    "# Check to see if there is an environment variable with you API keys, if not, use what you put below\n",
    "OPENAI_API_KEY = \"\"\n",
    "\n",
    "# PINECONE_API_KEY = os.environ.get('PINECONE_API_KEY', 'YourAPIKey')\n",
    "# PINECONE_API_ENV = os.environ.get('PINECONE_API_ENV', 'us-east1-gcp') # You may need to switch with your env"
   ]
  },
  {
   "cell_type": "code",
   "execution_count": 59,
   "metadata": {},
   "outputs": [],
   "source": [
    "embeddings = OpenAIEmbeddings(openai_api_key=OPENAI_API_KEY)"
   ]
  },
  {
   "cell_type": "code",
   "execution_count": 60,
   "metadata": {},
   "outputs": [],
   "source": [
    " # initialize pinecone\n",
    "pinecone.init(      \n",
    "\tapi_key='PINECONE_API_KEY',      \n",
    "\tenvironment='us-west1-gcp-free'      \n",
    ")      \n",
    "index = pinecone.Index('name_index') # put in the name of your pinecone index hereindex\n",
    "index_name = 'name_index'"
   ]
  },
  {
   "cell_type": "code",
   "execution_count": 61,
   "metadata": {},
   "outputs": [],
   "source": [
    "# Clear info index\n",
    "# index.delete(delete_all=True)"
   ]
  },
  {
   "cell_type": "code",
   "execution_count": 62,
   "metadata": {},
   "outputs": [
    {
     "data": {
      "text/plain": [
       "Document(page_content='Manual\\xa0de\\xa0Nutrición \\xa0y\\xa0Dietética\\xa0\\nÁngeles\\xa0Carbajal\\xa0Azcona.\\xa0Departamento \\xa0de\\xa0Nutrición. \\xa0Facultad\\xa0de\\xa0Farmacia. \\xa0Universidad \\xa0Complutense \\xa0de\\xa0Madrid\\xa0\\nhttps://www.ucm.es/nutricioncarbajal/ \\xa0\\xa0\\xa0\\xa0\\xa0\\xa0\\xa0\\xa0\\xa0\\xa0\\xa0\\xa0\\xa0\\xa0\\xa0\\xa0\\xa0\\xa0\\xa0\\xa0\\xa0\\xa0\\xa0\\xa0\\xa0\\xa0\\xa0\\xa0\\xa0\\xa0\\xa0\\xa0\\xa0\\xa0\\xa0\\xa0\\xa0\\xa0\\xa0\\xa0\\xa0\\xa0\\xa0\\xa0\\xa0\\xa0\\xa0\\xa0\\xa0\\xa0\\xa0\\xa0\\xa0\\xa0\\xa0\\xa0\\xa0\\xa0\\xa0\\xa0\\xa0\\xa0\\xa0 \\xa0\\xa0\\xa0\\xa0\\xa0\\xa0\\xa0\\xa0\\xa0\\xa0\\xa0\\xa0\\xa0\\xa0\\xa0\\xa0\\xa0\\xa0\\xa0\\xa0\\xa0\\xa0\\xa0\\xa0\\xa0\\xa0\\xa0\\xa0\\xa0\\xa0\\xa0\\xa0\\xa0\\xa0\\xa0\\xa0\\xa0\\xa0\\xa0\\xa0\\xa0\\xa0\\xa0\\xa0\\xa0\\xa0\\xa0\\xa0\\xa0\\xa0\\xa0\\xa0\\xa0\\xa0\\xa0\\xa0\\xa0\\xa0\\xa0\\xa0\\xa0\\xa0\\xa0 \\xa0\\xa0\\xa0\\xa0\\xa0\\xa0\\xa0\\xa01\\xa0\\n\\xa0\\n\\xa0\\xa0\\nManual\\xa0de\\xa0Nutrición \\xa0y\\xa0Dietética\\xa0\\n\\xa0\\n\\xa0\\xa0\\xa0\\xa0\\n\\xa0\\n\\xa0\\n\\xa0\\n\\xa0\\xa0\\xa0\\xa0\\nÁngeles\\xa0Carbajal\\xa0Azcona\\xa0\\nDepartamento \\xa0de\\xa0Nutrición \\xa0\\nFacultad\\xa0de\\xa0Farmacia \\xa0\\nUniversidad \\xa0Complutense \\xa0de\\xa0Madrid\\xa0\\nhttps://www.ucm.es/nutricioncarbajal \\xa0\\n\\xa0\\n\\xa0\\xa0\\xa0\\nSeptiembre \\xa0de\\xa02013', metadata={'source': '../content/nutrition/Manual-nutricion-dietetica-CARBAJAL.pdf', 'page': 0})"
      ]
     },
     "execution_count": 62,
     "metadata": {},
     "output_type": "execute_result"
    }
   ],
   "source": [
    "texts[0]"
   ]
  },
  {
   "cell_type": "code",
   "execution_count": 63,
   "metadata": {},
   "outputs": [],
   "source": [
    "docsearch = Pinecone.from_texts([t.page_content for t in texts], embeddings, index_name=index_name)"
   ]
  },
  {
   "cell_type": "code",
   "execution_count": 64,
   "metadata": {},
   "outputs": [],
   "source": [
    "\n",
    "query = \"What is the Central Limit Theorem?\"\n",
    "docs = docsearch.similarity_search(query)"
   ]
  },
  {
   "cell_type": "code",
   "execution_count": 65,
   "metadata": {},
   "outputs": [
    {
     "name": "stdout",
     "output_type": "stream",
     "text": [
      "Manual de Nutrición  y Dietética \n",
      "Ángeles Carbajal Azcona. Departamento  de Nutrición.  Facultad de Farmacia.  Universidad  Complutense  de Madrid \n",
      "https://www.ucm.es/nutricioncarbajal/                                                                                                                                         13 \n",
      " \n",
      " en las zonas centrales del cuerpo. La relación circunferencia  de cintura / circunferencia  de cadera (RCC) \n",
      "permite esti\n"
     ]
    }
   ],
   "source": [
    "# Here's an example of the first document that was returned\n",
    "print(docs[0].page_content[:450])"
   ]
  },
  {
   "cell_type": "markdown",
   "metadata": {},
   "source": [
    "Query those docs to get your answer back"
   ]
  },
  {
   "cell_type": "code",
   "execution_count": 66,
   "metadata": {},
   "outputs": [],
   "source": [
    "from langchain.llms import OpenAI\n",
    "from langchain.chains.question_answering import load_qa_chain"
   ]
  },
  {
   "cell_type": "code",
   "execution_count": 67,
   "metadata": {},
   "outputs": [],
   "source": [
    "llm = OpenAI(temperature=0, openai_api_key=OPENAI_API_KEY)\n",
    "chain = load_qa_chain(llm, chain_type=\"stuff\")"
   ]
  },
  {
   "cell_type": "code",
   "execution_count": 68,
   "metadata": {},
   "outputs": [],
   "source": [
    "query = \"What means to have noise in the data?\"\n",
    "# Noise in Data 93 / 188\n",
    "docs = docsearch.similarity_search(query)"
   ]
  },
  {
   "cell_type": "code",
   "execution_count": 72,
   "metadata": {},
   "outputs": [],
   "source": [
    "query = \"Que son las proteinas?\"\n",
    "# Noise in Data 93 / 188\n",
    "docs = docsearch.similarity_search(query)"
   ]
  },
  {
   "cell_type": "code",
   "execution_count": 73,
   "metadata": {},
   "outputs": [
    {
     "data": {
      "text/plain": [
       "[Document(page_content='Manual\\xa0de\\xa0Nutrición \\xa0y\\xa0Dietética\\xa0\\nÁngeles\\xa0Carbajal\\xa0Azcona.\\xa0Departamento \\xa0de\\xa0Nutrición. \\xa0Facultad\\xa0de\\xa0Farmacia. \\xa0Universidad \\xa0Complutense \\xa0de\\xa0Madrid\\xa0\\nhttps://www.ucm.es/nutricioncarbajal/ \\xa0\\xa0\\xa0\\xa0\\xa0\\xa0\\xa0\\xa0\\xa0\\xa0\\xa0\\xa0\\xa0\\xa0\\xa0\\xa0\\xa0\\xa0\\xa0\\xa0\\xa0\\xa0\\xa0\\xa0\\xa0\\xa0\\xa0\\xa0\\xa0\\xa0\\xa0\\xa0\\xa0\\xa0\\xa0\\xa0\\xa0\\xa0\\xa0\\xa0\\xa0\\xa0\\xa0\\xa0\\xa0\\xa0\\xa0\\xa0\\xa0\\xa0\\xa0\\xa0\\xa0\\xa0\\xa0\\xa0\\xa0\\xa0\\xa0\\xa0\\xa0\\xa0\\xa0 \\xa0\\xa0\\xa0\\xa0\\xa0\\xa0\\xa0\\xa0\\xa0\\xa0\\xa0\\xa0\\xa0\\xa0\\xa0\\xa0\\xa0\\xa0\\xa0\\xa0\\xa0\\xa0\\xa0\\xa0\\xa0\\xa0\\xa0\\xa0\\xa0\\xa0\\xa0\\xa0\\xa0\\xa0\\xa0\\xa0\\xa0\\xa0\\xa0\\xa0\\xa0\\xa0\\xa0\\xa0\\xa0\\xa0\\xa0\\xa0\\xa0\\xa0\\xa0\\xa0\\xa0\\xa0\\xa0\\xa0\\xa0\\xa0\\xa0\\xa0\\xa0\\xa0\\xa0 \\xa0\\xa0\\xa0\\xa0\\xa0\\xa0\\xa0\\xa045\\xa0\\n\\xa0\\n\\xa05. Proteínas \\xa0\\n\\xa0\\n\\uf0b7 Proteínas \\xa0\\n\\uf0b7 Aminoácidos \\xa0esenciales \\xa0y\\xa0no\\xa0esenciales \\xa0\\n\\uf0b7 Calidad\\xa0de\\xa0la\\xa0proteína\\xa0\\n\\xa0\\xa0\\n\\uf0b7 Proteínas \\xa0\\n\\xa0Todos\\xa0los\\xa0tejidos\\xa0vivos\\xa0contienen \\xa0proteínas. \\xa0Se\\xa0distinguen \\xa0químicamente \\xa0de\\xa0los\\xa0lípidos\\xa0y\\xa0de\\xa0los\\xa0hidratos\\xa0de\\xa0\\ncarbono\\xa0por\\xa0contener\\xa0nitrógeno. \\xa0Son\\xa0polímeros \\xa0de\\xa0aminoácidos \\xa0(hay\\xa020\\xa0distintos) \\xa0unidos\\xa0por\\xa0enlaces\\xa0\\npeptídicos. \\xa0Una\\xa0proteína\\xa0puede\\n\\xa0contener\\xa0varios\\xa0cientos\\xa0o\\xa0miles\\xa0de\\xa0aminoácidos \\xa0y\\xa0la\\xa0disposición \\xa0o\\xa0secuencia \\xa0\\nde\\xa0estos\\xa0aminoácidos \\xa0determina \\xa0la\\xa0estructura \\xa0y\\xa0la\\xa0función\\xa0de\\xa0las\\xa0diferentes \\xa0proteínas. \\xa0Algunas\\xa0son\\xa0\\nestructurales \\xa0(como\\xa0el\\xa0colágeno\\xa0del\\xa0tejido\\xa0conectivo \\xa0o\\xa0la\\xa0queratina \\xa0que\\xa0se\\xa0encuentra \\xa0en\\xa0pelo\\xa0y\\xa0uñas),\\xa0otras\\xa0\\nson\\xa0enzimas,\\xa0hormonas, \\xa0etc.\\xa0\\n\\xa0\\nLas\\xa0proteínas \\xa0son\\xa0el\\xa0constituyente \\xa0principal\\xa0de\\xa0las\\xa0células\\xa0y\\xa0son\\xa0necesarias \\xa0para\\xa0el\\xa0crecimiento, \\xa0la\\xa0\\nreparación \\xa0y\\xa0la\\xa0continua\\xa0renovación \\xa0de\\xa0los\\xa0tejidos\\xa0corporales \\xa0y\\xa0esto\\xa0determina \\xa0su\\xa0continua\\xa0necesidad. \\xa0Por\\xa0\\nejemplo,\\xa0el\\xa0tejido\\xa0epitelial\\xa0del\\xa0intestino\\xa0es\\xa0reemplazado \\xa0cada\\xa03\\xa0o\\xa04\\xa0días.\\xa0También\\xa0proporcionan \\xa0energía\\xa0(4\\xa0\\nkcal/gramo) \\xa0pero,\\xa0por\\xa0razones\\xa0fisiológicas \\xa0y\\xa0económicas, \\xa0es\\xa0poco\\xa0recomendable \\xa0utilizarlas \\xa0para\\xa0este\\xa0fin.\\xa0Sin\\xa0\\nembargo, \\xa0si\\xa0en\\xa0la\\xa0dieta\\xa0no\\xa0hay\\xa0suficiente \\xa0cantidad\\xa0de\\xa0grasas\\xa0o\\xa0hidratos\\xa0de\\xa0carbono,\\xa0la\\xa0proteína\\xa0se\\xa0usará\\xa0\\npara\\xa0proporcionar \\xa0energía.\\xa0Esto\\xa0es\\xa0lo\\xa0que\\xa0ocurre,\\xa0por\\xa0ejemplo,\\xa0en\\xa0la\\xa0inanición. \\xa0\\n\\xa0\\n\\uf0b7 Aminoácidos \\xa0esenciales \\xa0y\\xa0no\\xa0esenciales \\xa0\\n\\xa0\\nDe\\xa0los\\xa020\\xa0aminoácidos \\xa0que\\xa0se\\xa0combinan \\xa0para\\xa0formar\\xa0las\\xa0proteínas, \\xa0algunos\\xa0pueden\\xa0ser\\xa0sintetizados \\xa0por\\xa0el\\xa0\\norganismo, \\xa0por\\xa0lo\\xa0que\\xa0se\\xa0denominan \\xa0no\\xa0esenciales \\xa0(alanina,\\xa0arginina,\\xa0ácido\\xa0aspártico, \\xa0asparragina, \\xa0cisteína,', metadata={}),\n",
       " Document(page_content='Manual\\xa0de\\xa0Nutrición \\xa0y\\xa0Dietética\\xa0\\nÁngeles\\xa0Carbajal\\xa0Azcona.\\xa0Departamento \\xa0de\\xa0Nutrición. \\xa0Facultad\\xa0de\\xa0Farmacia. \\xa0Universidad \\xa0Complutense \\xa0de\\xa0Madrid\\xa0\\nhttps://www.ucm.es/nutricioncarbajal/ \\xa0\\xa0\\xa0\\xa0\\xa0\\xa0\\xa0\\xa0\\xa0\\xa0\\xa0\\xa0\\xa0\\xa0\\xa0\\xa0\\xa0\\xa0\\xa0\\xa0\\xa0\\xa0\\xa0\\xa0\\xa0\\xa0\\xa0\\xa0\\xa0\\xa0\\xa0\\xa0\\xa0\\xa0\\xa0\\xa0\\xa0\\xa0\\xa0\\xa0\\xa0\\xa0\\xa0\\xa0\\xa0\\xa0\\xa0\\xa0\\xa0\\xa0\\xa0\\xa0\\xa0\\xa0\\xa0\\xa0\\xa0\\xa0\\xa0\\xa0\\xa0\\xa0\\xa0 \\xa0\\xa0\\xa0\\xa0\\xa0\\xa0\\xa0\\xa0\\xa0\\xa0\\xa0\\xa0\\xa0\\xa0\\xa0\\xa0\\xa0\\xa0\\xa0\\xa0\\xa0\\xa0\\xa0\\xa0\\xa0\\xa0\\xa0\\xa0\\xa0\\xa0\\xa0\\xa0\\xa0\\xa0\\xa0\\xa0\\xa0\\xa0\\xa0\\xa0\\xa0\\xa0\\xa0\\xa0\\xa0\\xa0\\xa0\\xa0\\xa0\\xa0\\xa0\\xa0\\xa0\\xa0\\xa0\\xa0\\xa0\\xa0\\xa0\\xa0\\xa0\\xa0\\xa0 \\xa0\\xa0\\xa0\\xa0\\xa0\\xa0\\xa0\\xa046\\xa0\\n\\xa0\\n\\xa0\\xa0\\n\\xa0\\n\\xa0\\n\\uf0b7 Calidad\\xa0de\\xa0la\\xa0proteína\\xa0\\n\\xa0\\nPara\\xa0juzgar\\xa0la\\xa0utilidad\\xa0de\\xa0las\\xa0proteínas \\xa0de\\xa0los\\xa0alimentos \\xa0para\\xa0mantener \\xa0y\\xa0reparar\\xa0los\\xa0tejidos\\xa0y\\xa0para\\xa0llevar\\xa0a\\xa0\\ncabo\\xa0los\\xa0procesos\\xa0de\\xa0crecimiento \\xa0y\\xa0formación \\xa0de\\xa0estructuras \\xa0corporales \\xa0se\\xa0utiliza\\xa0el\\xa0término\\xa0de\\xa0\"calidad\\xa0de\\xa0\\nla\\xa0proteína\", \\xa0calidad\\xa0que\\xa0se\\xa0estima\\xa0utilizando \\xa0diversas\\xa0medidas\\xa0experimentales. \\xa0Por\\xa0ejemplo,\\xa0el\\xa0\"valor\\xa0\\nbiológico \\xa0de\\xa0la\\xa0proteína\" \\xa0(VB)\\xa0se\\xa0define\\xa0como\\xa0la\\xa0proporción \\xa0de\\xa0la\\xa0proteína\\xa0absorbida \\xa0que\\xa0es\\xa0retenida\\xa0y,\\xa0por\\xa0\\ntanto,\\xa0utilizada\\xa0por\\xa0el\\xa0organismo. \\xa0Otro\\xa0parámetro \\xa0habitualmente \\xa0utilizado\\xa0es\\xa0el\\xa0denominado \\xa0\"coeficiente \\xa0\\nde\\xa0utilización \\xa0neta\\xa0de\\xa0la\\xa0proteína\" \\xa0(NPU)\\xa0que,\\xa0a\\xa0diferencia \\xa0del\\xa0anterior,\\xa0sí\\xa0tiene\\xa0en\\xa0cuenta\\xa0la\\xa0digestibilidad \\xa0\\nde\\xa0la\\xa0proteína,\\xa0es\\xa0decir,\\xa0mide\\xa0la\\xa0proporción \\xa0de\\xa0la\\xa0proteína\\xa0consumida \\xa0que\\xa0es\\xa0utilizada.\\xa0\\n\\xa0Durante\\xa0la\\xa0síntesis\\xa0proteica\\xa0deben\\xa0estar\\xa0presentes \\xa0en\\xa0las\\xa0células\\xa0todos\\xa0los\\xa0aminoácidos \\xa0necesarios, \\xa0si\\xa0falta\\xa0\\nalguno,\\xa0la\\xa0síntesis\\xa0puede\\xa0fallar.\\xa0Por\\xa0ello,\\xa0si\\xa0la\\xa0proteína\\xa0ingerida\\xa0contiene\\xa0todos\\n\\xa0los\\xa0aminoácidos \\xa0esenciales \\xa0en\\xa0\\nlas\\xa0proporciones \\xa0necesarias \\xa0para\\xa0el\\xa0hombre,\\xa0se\\xa0dice\\xa0que\\xa0es\\xa0de\\xa0alto\\xa0valor\\xa0biológico, \\xa0que\\xa0es\\xa0completamente \\xa0\\nutilizable. \\xa0Por\\xa0el\\xa0contrario, \\xa0si\\xa0sólo\\xa0tiene\\xa0pequeñas \\xa0cantidades \\xa0de\\xa0uno\\xa0de\\xa0ellos\\xa0(el\\xa0denominado \\xa0aminoácido \\xa0\\nlimitante), \\xa0será\\xa0de\\xa0menor\\xa0calidad.\\xa0En\\xa0general,\\xa0las\\xa0proteínas \\xa0de\\xa0los\\xa0alimentos \\xa0de\\xa0origen\\xa0animal\\xa0tienen\\xa0mayor\\xa0\\nvalor\\xa0biológico\\xa0que\\xa0las\\xa0de\\xa0procedencia \\xa0vegetal\\xa0porque\\xa0su\\xa0composición \\xa0en\\xa0aminoácidos \\xa0es\\xa0más\\xa0parecida\\xa0a\\xa0las\\xa0\\nproteínas \\xa0corporales. \\xa0Las\\xa0proteínas \\xa0de\\xa0los\\xa0huevos\\xa0y\\xa0de\\xa0la\\xa0leche\\xa0humana\\xa0tienen\\xa0un\\xa0valor\\xa0biológico\\xa0entre\\xa00.9\\xa0y', metadata={}),\n",
       " Document(page_content='Manual\\xa0de\\xa0Nutrición \\xa0y\\xa0Dietética\\xa0\\nÁngeles\\xa0Carbajal\\xa0Azcona.\\xa0Departamento \\xa0de\\xa0Nutrición. \\xa0Facultad\\xa0de\\xa0Farmacia. \\xa0Universidad \\xa0Complutense \\xa0de\\xa0Madrid\\xa0\\nhttps://www.ucm.es/nutricioncarbajal/ \\xa0\\xa0\\xa0\\xa0\\xa0\\xa0\\xa0\\xa0\\xa0\\xa0\\xa0\\xa0\\xa0\\xa0\\xa0\\xa0\\xa0\\xa0\\xa0\\xa0\\xa0\\xa0\\xa0\\xa0\\xa0\\xa0\\xa0\\xa0\\xa0\\xa0\\xa0\\xa0\\xa0\\xa0\\xa0\\xa0\\xa0\\xa0\\xa0\\xa0\\xa0\\xa0\\xa0\\xa0\\xa0\\xa0\\xa0\\xa0\\xa0\\xa0\\xa0\\xa0\\xa0\\xa0\\xa0\\xa0\\xa0\\xa0\\xa0\\xa0\\xa0\\xa0\\xa0 \\xa0\\xa0\\xa0\\xa0\\xa0\\xa0\\xa0\\xa0\\xa0\\xa0\\xa0\\xa0\\xa0\\xa0\\xa0\\xa0\\xa0\\xa0\\xa0\\xa0\\xa0\\xa0\\xa0\\xa0\\xa0\\xa0\\xa0\\xa0\\xa0\\xa0\\xa0\\xa0\\xa0\\xa0\\xa0\\xa0\\xa0\\xa0\\xa0\\xa0\\xa0\\xa0\\xa0\\xa0\\xa0\\xa0\\xa0\\xa0\\xa0\\xa0\\xa0\\xa0\\xa0\\xa0\\xa0\\xa0\\xa0\\xa0\\xa0\\xa0\\xa0\\xa0\\xa0 \\xa0\\xa0\\xa0\\xa0\\xa0\\xa0\\xa0\\xa047\\xa0\\n\\xa0\\n\\xa0\\xa0\\n\\xa0\\nDe\\xa0cualquier \\xa0manera,\\xa0la\\xa0calidad\\xa0individual \\xa0de\\xa0las\\xa0proteínas \\xa0es\\xa0relativamente \\xa0poco\\xa0importante \\xa0en\\xa0dietas\\xa0\\nmixtas\\xa0debido\\xa0al\\xa0fenómeno \\xa0de\\xa0complementación/suplementación \\xa0entre\\xa0proteínas \\xa0distintas.\\xa0Cuando\\xa0dos\\xa0\\nalimentos \\xa0que\\xa0contienen \\xa0proteínas \\xa0con\\xa0aminoácidos \\xa0limitantes \\xa0diferentes \\xa0(lisina\\xa0en\\xa0la\\xa0proteína\\xa0del\\xa0trigo\\xa0y\\xa0\\ndel\\xa0arroz\\xa0‐pero\\xa0muy\\xa0ricas\\xa0en\\xa0metionina ‐\\xa0y\\xa0metionina \\xa0en\\xa0la\\xa0de\\xa0leguminosas \\xa0‐ricas\\xa0en\\xa0lisina‐)\\xa0se\\xa0consumen \\xa0en\\xa0\\nla\\xa0misma\\xa0comida\\xa0(por\\xa0ejemplo\\xa0en\\xa0un\\xa0potaje\\xa0de\\xa0garbanzos \\xa0y\\xa0arroz),\\xa0el\\xa0aminoácido \\xa0de\\xa0una\\xa0proteína\\xa0puede\\xa0\\ncompensar \\xa0la\\xa0deficiencia \\xa0de\\xa0la\\xa0otra,\\xa0dando\\xa0lugar\\xa0a\\xa0una\\xa0proteína\\xa0de\\xa0alto\\xa0valor\\xa0biológico. \\xa0\\n\\xa0\\n\\xa0\\n\\xa0\\nPor\\xa0ello,\\xa0los\\xa0vegetarianos \\xa0que\\xa0consumen \\xa0proteínas \\xa0vegetales \\xa0variadas\\xa0pueden\\xa0conseguir \\xa0una\\xa0proteína\\xa0de\\xa0\\ntan\\xa0alta\\xa0calidad\\xa0como\\xa0la\\xa0de\\xa0origen\\xa0animal.\\xa0Igualmente, \\xa0si\\xa0la\\xa0cantidad\\xa0consumida \\xa0de\\xa0proteína\\xa0es\\xa0suficiente \\xa0\\npara\\xa0cubrir\\xa0las\\xa0necesidades, \\xa0como\\xa0ocurre\\xa0en\\xa0todos\\xa0los\\xa0países\\xa0desarrollados, \\xa0la\\xa0calidad\\xa0tiene\\xa0menor\\xa0\\nimportancia. \\xa0La\\xa0calidad\\xa0media\\xa0de\\xa0la\\xa0proteína\\xa0ingerida\\xa0en\\xa0España,\\xa0juzgada\\xa0por\\xa0el\\xa0valor\\xa0del\\xa0NPU,\\xa0se\\xa0ha\\xa0\\nestimado \\xa0en\\xa0un\\xa070%\\xa0(0.70)\\xa0y\\xa0considerando \\xa0este\\xa0valor\\xa0se\\xa0han\\xa0calculado \\xa0las\\xa0ingestas\\xa0recomendadas.', metadata={}),\n",
       " Document(page_content='Manual\\xa0de\\xa0Nutrición \\xa0y\\xa0Dietética\\xa0\\nÁngeles\\xa0Carbajal\\xa0Azcona.\\xa0Departamento \\xa0de\\xa0Nutrición. \\xa0Facultad\\xa0de\\xa0Farmacia. \\xa0Universidad \\xa0Complutense \\xa0de\\xa0Madrid\\xa0\\nhttps://www.ucm.es/nutricioncarbajal/ \\xa0\\xa0\\xa0\\xa0\\xa0\\xa0\\xa0\\xa0\\xa0\\xa0\\xa0\\xa0\\xa0\\xa0\\xa0\\xa0\\xa0\\xa0\\xa0\\xa0\\xa0\\xa0\\xa0\\xa0\\xa0\\xa0\\xa0\\xa0\\xa0\\xa0\\xa0\\xa0\\xa0\\xa0\\xa0\\xa0\\xa0\\xa0\\xa0\\xa0\\xa0\\xa0\\xa0\\xa0\\xa0\\xa0\\xa0\\xa0\\xa0\\xa0\\xa0\\xa0\\xa0\\xa0\\xa0\\xa0\\xa0\\xa0\\xa0\\xa0\\xa0\\xa0\\xa0 \\xa0\\xa0\\xa0\\xa0\\xa0\\xa0\\xa0\\xa0\\xa0\\xa0\\xa0\\xa0\\xa0\\xa0\\xa0\\xa0\\xa0\\xa0\\xa0\\xa0\\xa0\\xa0\\xa0\\xa0\\xa0\\xa0\\xa0\\xa0\\xa0\\xa0\\xa0\\xa0\\xa0\\xa0\\xa0\\xa0\\xa0\\xa0\\xa0\\xa0\\xa0\\xa0\\xa0\\xa0\\xa0\\xa0\\xa0\\xa0\\xa0\\xa0\\xa0\\xa0\\xa0\\xa0\\xa0\\xa0\\xa0\\xa0\\xa0\\xa0\\xa0\\xa0\\xa0 \\xa0\\xa0\\xa0\\xa0\\xa0\\xa0\\xa0\\xa048\\xa0\\n\\xa0\\n\\xa0\\xa0\\nLas\\xa0necesidades \\xa0de\\xa0proteína\\xa0varían\\xa0a\\xa0lo\\xa0largo\\xa0de\\xa0la\\xa0vida:\\xa0los\\xa0bebes,\\xa0los\\xa0niños\\xa0y\\xa0los\\xa0adolescentes \\xa0las\\xa0necesitan \\xa0\\npara\\xa0crecer,\\xa0las\\xa0gestantes \\xa0para\\xa0el\\xa0desarrollo \\xa0del\\xa0feto\\xa0y\\xa0las\\xa0lactantes\\xa0para\\xa0la\\xa0producción \\xa0de\\xa0leche.\\xa0\\n\\xa0\\n\\xa0\\n\\xa0\\nLas\\xa0principales \\xa0fuentes\\xa0de\\xa0proteína\\xa0son:\\xa0lácteos,\\xa0carnes,\\xa0pescados, \\xa0huevos,\\xa0cereales,\\xa0leguminosas \\xa0y\\xa0frutos\\xa0\\nsecos.\\xa0En\\xa0España,\\xa0las\\xa0carnes,\\xa0los\\xa0cereales\\xa0y\\xa0los\\xa0lácteos\\xa0son\\xa0los\\xa0alimentos \\xa0que\\xa0aportan\\xa0mayor\\xa0cantidad. \\xa0\\n\\xa0\\n\\xa0\\nENNA:\\xa0Estudio\\xa0Nacional\\xa0de\\xa0Nutrición\\xa0y\\xa0Alimentación: \\xa01964‐1991\\xa0(Varela\\xa0y\\xa0col.,\\xa01995)\\xa0\\nMAPA:\\xa0Panel\\xa0de\\xa0consumo\\xa02000‐2008\\xa0(del\\xa0Pozo\\xa0y\\xa0col.,\\xa02012)\\xa0\\nENIDE:\\xa02011,\\xa03.000\\xa0encuestas, \\xa0representativa, \\xa0transversal, \\xa0>18\\xa0años\\xa0(AESAN,\\xa02012)', metadata={})]"
      ]
     },
     "execution_count": 73,
     "metadata": {},
     "output_type": "execute_result"
    }
   ],
   "source": [
    "docs"
   ]
  },
  {
   "cell_type": "code",
   "execution_count": 74,
   "metadata": {},
   "outputs": [
    {
     "data": {
      "text/plain": [
       "' Las proteínas son polímeros de aminoácidos unidos por enlaces peptídicos. Todos los tejidos vivos contienen proteínas. Son necesarias para el crecimiento, la reparación y la continua renovación de los tejidos corporales. Proporcionan energía (4 kcal/gramo) pero es poco recomendable utilizarlas para este fin.'"
      ]
     },
     "execution_count": 74,
     "metadata": {},
     "output_type": "execute_result"
    }
   ],
   "source": [
    "chain.run(input_documents=docs, question=query)"
   ]
  }
 ],
 "metadata": {
  "kernelspec": {
   "display_name": "Python 3",
   "language": "python",
   "name": "python3"
  },
  "language_info": {
   "codemirror_mode": {
    "name": "ipython",
    "version": 3
   },
   "file_extension": ".py",
   "mimetype": "text/x-python",
   "name": "python",
   "nbconvert_exporter": "python",
   "pygments_lexer": "ipython3",
   "version": "3.11.3"
  },
  "orig_nbformat": 4
 },
 "nbformat": 4,
 "nbformat_minor": 2
}
